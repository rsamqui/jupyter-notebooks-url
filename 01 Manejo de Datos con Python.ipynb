{
 "cells": [
  {
   "cell_type": "markdown",
   "id": "495d1249-1054-4c8c-b082-46c0d8b14991",
   "metadata": {},
   "source": [
    "# Manejo de datos en Python\n",
    "## Conjuntos de datos"
   ]
  },
  {
   "cell_type": "code",
   "execution_count": 1,
   "id": "32f571ac-e86f-4fa2-98f1-ea5d60c42837",
   "metadata": {},
   "outputs": [],
   "source": [
    "# Listas nombre_de_lista = [elemento1, elemento2, elemento3, ...]\n",
    "Tipo = ['Integer', \"Float\", 'String', 'Boolean']\n",
    "Ejemplo = [20250216, 0.9, 'Feb-16', True]\n",
    "# Tuplas nombre_de_tupla = (elemento1, elemento2, elemento3, ...)\n",
    "Tupla = ('Algo', 'Otro', 'Mas', 25)"
   ]
  },
  {
   "cell_type": "code",
   "execution_count": 2,
   "id": "3d20d826-5ff7-46be-bfd5-4c719371d41f",
   "metadata": {},
   "outputs": [
    {
     "data": {
      "text/plain": [
       "['Integer', 'Float', 'String', 'Boolean']"
      ]
     },
     "execution_count": 2,
     "metadata": {},
     "output_type": "execute_result"
    }
   ],
   "source": [
    "Tipo"
   ]
  },
  {
   "cell_type": "code",
   "execution_count": 3,
   "id": "3a81b8a2-1809-49b2-bb22-3a445d3d9f0c",
   "metadata": {},
   "outputs": [
    {
     "data": {
      "text/plain": [
       "('Algo', 'Otro', 'Mas', 25)"
      ]
     },
     "execution_count": 3,
     "metadata": {},
     "output_type": "execute_result"
    }
   ],
   "source": [
    "Ejemplo\n",
    "Tupla"
   ]
  },
  {
   "cell_type": "code",
   "execution_count": 4,
   "id": "1b9c1a22-d434-45df-95df-c4104336d8d4",
   "metadata": {},
   "outputs": [
    {
     "name": "stdout",
     "output_type": "stream",
     "text": [
      "Ejemplo de lista ['Integer', 'Float', 'String', 'Boolean']\n",
      "Ejemplo de tupla ('Algo', 'Otro', 'Mas', 25)\n"
     ]
    }
   ],
   "source": [
    "print('Ejemplo de lista', Tipo)\n",
    "print('Ejemplo de tupla', Tupla)"
   ]
  },
  {
   "cell_type": "code",
   "execution_count": 5,
   "id": "1f1c64b0-0b72-406f-942f-36e3ff74b261",
   "metadata": {},
   "outputs": [
    {
     "data": {
      "text/plain": [
       "['__add__',\n",
       " '__class__',\n",
       " '__class_getitem__',\n",
       " '__contains__',\n",
       " '__delattr__',\n",
       " '__delitem__',\n",
       " '__dir__',\n",
       " '__doc__',\n",
       " '__eq__',\n",
       " '__format__',\n",
       " '__ge__',\n",
       " '__getattribute__',\n",
       " '__getitem__',\n",
       " '__getstate__',\n",
       " '__gt__',\n",
       " '__hash__',\n",
       " '__iadd__',\n",
       " '__imul__',\n",
       " '__init__',\n",
       " '__init_subclass__',\n",
       " '__iter__',\n",
       " '__le__',\n",
       " '__len__',\n",
       " '__lt__',\n",
       " '__mul__',\n",
       " '__ne__',\n",
       " '__new__',\n",
       " '__reduce__',\n",
       " '__reduce_ex__',\n",
       " '__repr__',\n",
       " '__reversed__',\n",
       " '__rmul__',\n",
       " '__setattr__',\n",
       " '__setitem__',\n",
       " '__sizeof__',\n",
       " '__str__',\n",
       " '__subclasshook__',\n",
       " 'append',\n",
       " 'clear',\n",
       " 'copy',\n",
       " 'count',\n",
       " 'extend',\n",
       " 'index',\n",
       " 'insert',\n",
       " 'pop',\n",
       " 'remove',\n",
       " 'reverse',\n",
       " 'sort']"
      ]
     },
     "execution_count": 5,
     "metadata": {},
     "output_type": "execute_result"
    }
   ],
   "source": [
    "dir(Tipo)"
   ]
  },
  {
   "cell_type": "code",
   "execution_count": 6,
   "id": "cd44ee36-82b1-4403-82c2-6398642d6ce9",
   "metadata": {},
   "outputs": [
    {
     "data": {
      "text/plain": [
       "['__add__',\n",
       " '__class__',\n",
       " '__class_getitem__',\n",
       " '__contains__',\n",
       " '__delattr__',\n",
       " '__dir__',\n",
       " '__doc__',\n",
       " '__eq__',\n",
       " '__format__',\n",
       " '__ge__',\n",
       " '__getattribute__',\n",
       " '__getitem__',\n",
       " '__getnewargs__',\n",
       " '__getstate__',\n",
       " '__gt__',\n",
       " '__hash__',\n",
       " '__init__',\n",
       " '__init_subclass__',\n",
       " '__iter__',\n",
       " '__le__',\n",
       " '__len__',\n",
       " '__lt__',\n",
       " '__mul__',\n",
       " '__ne__',\n",
       " '__new__',\n",
       " '__reduce__',\n",
       " '__reduce_ex__',\n",
       " '__repr__',\n",
       " '__rmul__',\n",
       " '__setattr__',\n",
       " '__sizeof__',\n",
       " '__str__',\n",
       " '__subclasshook__',\n",
       " 'count',\n",
       " 'index']"
      ]
     },
     "execution_count": 6,
     "metadata": {},
     "output_type": "execute_result"
    }
   ],
   "source": [
    "dir(Tupla)"
   ]
  },
  {
   "cell_type": "code",
   "execution_count": 7,
   "id": "58eadd26-48bc-4ca7-885f-451dd77d26fc",
   "metadata": {},
   "outputs": [
    {
     "data": {
      "text/plain": [
       "['Integer', 'Float', 'String', 'Boolean', 'Char']"
      ]
     },
     "execution_count": 7,
     "metadata": {},
     "output_type": "execute_result"
    }
   ],
   "source": [
    "Tipo.append('Char')\n",
    "Tipo"
   ]
  },
  {
   "cell_type": "code",
   "execution_count": 8,
   "id": "2582d501-8c44-4b39-8dc4-71f7576ebd2a",
   "metadata": {},
   "outputs": [
    {
     "data": {
      "text/plain": [
       "[20250216, 0.9, 'Feb-16', True, 'A']"
      ]
     },
     "execution_count": 8,
     "metadata": {},
     "output_type": "execute_result"
    }
   ],
   "source": [
    "Ejemplo.append('A')\n",
    "Ejemplo"
   ]
  },
  {
   "cell_type": "code",
   "execution_count": 9,
   "id": "68d58d1c-cdc9-46f9-b0a3-585f72e84e77",
   "metadata": {},
   "outputs": [
    {
     "data": {
      "text/plain": [
       "'Char'"
      ]
     },
     "execution_count": 9,
     "metadata": {},
     "output_type": "execute_result"
    }
   ],
   "source": [
    "Tipo.pop()"
   ]
  },
  {
   "cell_type": "code",
   "execution_count": 10,
   "id": "33e412b0-c80e-4405-a3de-94a23f3fefac",
   "metadata": {},
   "outputs": [
    {
     "data": {
      "text/plain": [
       "['Integer', 'Float', 'String', 'Boolean']"
      ]
     },
     "execution_count": 10,
     "metadata": {},
     "output_type": "execute_result"
    }
   ],
   "source": [
    "Tipo"
   ]
  },
  {
   "cell_type": "code",
   "execution_count": 11,
   "id": "611db832-24d9-48e8-ae07-4ae23193553b",
   "metadata": {},
   "outputs": [
    {
     "data": {
      "text/plain": [
       "'String'"
      ]
     },
     "execution_count": 11,
     "metadata": {},
     "output_type": "execute_result"
    }
   ],
   "source": [
    "Tipo.pop(2)"
   ]
  },
  {
   "cell_type": "code",
   "execution_count": 12,
   "id": "b480a308-f581-43ab-9d42-bb8f3d13c125",
   "metadata": {},
   "outputs": [
    {
     "data": {
      "text/plain": [
       "['Integer', 'Float', 'Boolean']"
      ]
     },
     "execution_count": 12,
     "metadata": {},
     "output_type": "execute_result"
    }
   ],
   "source": [
    "Tipo"
   ]
  },
  {
   "cell_type": "code",
   "execution_count": 13,
   "id": "c73b4857-4b1c-4e72-bcf5-556912b24dbb",
   "metadata": {},
   "outputs": [
    {
     "data": {
      "text/plain": [
       "['Integer', 'Float', 'Boolean', 20250216, 0.9, 'Feb-16', True, 'A']"
      ]
     },
     "execution_count": 13,
     "metadata": {},
     "output_type": "execute_result"
    }
   ],
   "source": [
    "Tipo.extend(Ejemplo)\n",
    "Tipo"
   ]
  },
  {
   "cell_type": "code",
   "execution_count": 14,
   "id": "85ba1e25-c08a-4d89-83da-245964d91f08",
   "metadata": {},
   "outputs": [
    {
     "data": {
      "text/plain": [
       "['Integer', 'Float', 'Boolean', 20250216, 0.9, 'Feb-16', 'A']"
      ]
     },
     "execution_count": 14,
     "metadata": {},
     "output_type": "execute_result"
    }
   ],
   "source": [
    "Tipo.remove(True)\n",
    "Tipo"
   ]
  },
  {
   "cell_type": "code",
   "execution_count": 15,
   "id": "c8b96e4f-492b-4400-aad3-be62e0d56ebb",
   "metadata": {},
   "outputs": [
    {
     "data": {
      "text/plain": [
       "['Integer', 'Float', 'Boolean', 20250216, 0.9, 'Feb-16', 'A', 'Float']"
      ]
     },
     "execution_count": 15,
     "metadata": {},
     "output_type": "execute_result"
    }
   ],
   "source": [
    "Tipo.append('Float')\n",
    "Tipo"
   ]
  },
  {
   "cell_type": "code",
   "execution_count": 16,
   "id": "cb8b706e-1df5-4a63-951f-d1f19fe0b57e",
   "metadata": {},
   "outputs": [
    {
     "data": {
      "text/plain": [
       "['Integer', 'Boolean', 20250216, 0.9, 'Feb-16', 'A', 'Float']"
      ]
     },
     "execution_count": 16,
     "metadata": {},
     "output_type": "execute_result"
    }
   ],
   "source": [
    "Tipo.remove('Float')\n",
    "Tipo"
   ]
  },
  {
   "cell_type": "markdown",
   "id": "d8ffc4e3-4631-489f-a1fa-9c9dd3469436",
   "metadata": {},
   "source": [
    "# Diccionarios\n",
    "nombre_diccionario = {clave:valor}"
   ]
  },
  {
   "cell_type": "code",
   "execution_count": 17,
   "id": "29fad53f-e1a8-44c3-a891-e73f78345916",
   "metadata": {},
   "outputs": [],
   "source": [
    "estudiante = {'Carné':202502016,\n",
    "              'Nombre':'Marlon',\n",
    "              'Apellido':'Osorio',\n",
    "              'Edad':19}"
   ]
  },
  {
   "cell_type": "code",
   "execution_count": 18,
   "id": "441ea315-ae48-4dff-8dd5-843429dbab69",
   "metadata": {},
   "outputs": [
    {
     "data": {
      "text/plain": [
       "20250216"
      ]
     },
     "execution_count": 18,
     "metadata": {},
     "output_type": "execute_result"
    }
   ],
   "source": [
    "Tipo[2]"
   ]
  },
  {
   "cell_type": "code",
   "execution_count": 19,
   "id": "ae6da455-9c4d-4018-a4dd-7a2a633d2014",
   "metadata": {},
   "outputs": [
    {
     "data": {
      "text/plain": [
       "'Osorio'"
      ]
     },
     "execution_count": 19,
     "metadata": {},
     "output_type": "execute_result"
    }
   ],
   "source": [
    "estudiante['Apellido']"
   ]
  },
  {
   "cell_type": "code",
   "execution_count": 20,
   "id": "7a8c91eb-0772-401c-95a0-d47d85c03283",
   "metadata": {},
   "outputs": [],
   "source": [
    "Nombre = ['Catherine','Rodolfo','Oliver']\n",
    "Apellido = ['Mena','Samqui','Sanchez']\n",
    "Edad = [21,22,22]"
   ]
  },
  {
   "cell_type": "code",
   "execution_count": 21,
   "id": "f5fc8453-fe34-4771-9546-545120b33e69",
   "metadata": {},
   "outputs": [
    {
     "data": {
      "text/plain": [
       "{'Nombre': ['Catherine', 'Rodolfo', 'Oliver'],\n",
       " 'Apellido': ['Mena', 'Samqui', 'Sanchez'],\n",
       " 'Edad': [21, 22, 22]}"
      ]
     },
     "execution_count": 21,
     "metadata": {},
     "output_type": "execute_result"
    }
   ],
   "source": [
    "estudiantes = {'Nombre':Nombre,'Apellido':Apellido,'Edad':Edad}\n",
    "estudiantes"
   ]
  },
  {
   "cell_type": "markdown",
   "id": "1d64fce3-160d-44b2-8b15-0a76ff132e04",
   "metadata": {},
   "source": [
    "# DataFrame"
   ]
  },
  {
   "cell_type": "code",
   "execution_count": 22,
   "id": "7331cab1-01b2-4472-bbbd-186aedd639fc",
   "metadata": {},
   "outputs": [],
   "source": [
    "# nombre_DataFrame = pandas.DataFrame.from_dict(datos, columns=[nombres_de_columna])\n",
    "# nombre_DataFrame = pandas.DataFrame(diccionario)\n",
    "import pandas as pd"
   ]
  },
  {
   "cell_type": "code",
   "execution_count": 23,
   "id": "82273e40-1a8c-463c-abf2-7b61e2b3c7c3",
   "metadata": {},
   "outputs": [],
   "source": [
    "tablaEstudiante = pd.DataFrame(estudiantes)"
   ]
  },
  {
   "cell_type": "code",
   "execution_count": 24,
   "id": "2dd98cbb-f614-41f5-8a10-689d6cce4129",
   "metadata": {},
   "outputs": [
    {
     "data": {
      "text/html": [
       "<div>\n",
       "<style scoped>\n",
       "    .dataframe tbody tr th:only-of-type {\n",
       "        vertical-align: middle;\n",
       "    }\n",
       "\n",
       "    .dataframe tbody tr th {\n",
       "        vertical-align: top;\n",
       "    }\n",
       "\n",
       "    .dataframe thead th {\n",
       "        text-align: right;\n",
       "    }\n",
       "</style>\n",
       "<table border=\"1\" class=\"dataframe\">\n",
       "  <thead>\n",
       "    <tr style=\"text-align: right;\">\n",
       "      <th></th>\n",
       "      <th>Nombre</th>\n",
       "      <th>Apellido</th>\n",
       "      <th>Edad</th>\n",
       "    </tr>\n",
       "  </thead>\n",
       "  <tbody>\n",
       "    <tr>\n",
       "      <th>0</th>\n",
       "      <td>Catherine</td>\n",
       "      <td>Mena</td>\n",
       "      <td>21</td>\n",
       "    </tr>\n",
       "    <tr>\n",
       "      <th>1</th>\n",
       "      <td>Rodolfo</td>\n",
       "      <td>Samqui</td>\n",
       "      <td>22</td>\n",
       "    </tr>\n",
       "    <tr>\n",
       "      <th>2</th>\n",
       "      <td>Oliver</td>\n",
       "      <td>Sanchez</td>\n",
       "      <td>22</td>\n",
       "    </tr>\n",
       "  </tbody>\n",
       "</table>\n",
       "</div>"
      ],
      "text/plain": [
       "      Nombre Apellido  Edad\n",
       "0  Catherine     Mena    21\n",
       "1    Rodolfo   Samqui    22\n",
       "2     Oliver  Sanchez    22"
      ]
     },
     "execution_count": 24,
     "metadata": {},
     "output_type": "execute_result"
    }
   ],
   "source": [
    "tablaEstudiante"
   ]
  },
  {
   "cell_type": "code",
   "execution_count": 25,
   "id": "a9e19ebb-1d58-4bf5-bb7b-c24b5449772f",
   "metadata": {},
   "outputs": [],
   "source": [
    "# Listas nombre_de_lista = [elemento1, elemento2, elemento3, ...]\n",
    "Tipo = ['Integer', \"Float\", 'String', 'Boolean']\n",
    "Ejemplo = [20250216, 0.9, 'Feb-16', True]\n",
    "# Tuplas nombre_de_tupla = (elemento1, elemento2, elemento3, ...)\n",
    "Tupla = ('Algo', 'Otro', 'Mas', 25)"
   ]
  },
  {
   "cell_type": "code",
   "execution_count": 26,
   "id": "93535b34-f65e-4608-97f0-d89d30976a6e",
   "metadata": {},
   "outputs": [
    {
     "data": {
      "text/html": [
       "<div>\n",
       "<style scoped>\n",
       "    .dataframe tbody tr th:only-of-type {\n",
       "        vertical-align: middle;\n",
       "    }\n",
       "\n",
       "    .dataframe tbody tr th {\n",
       "        vertical-align: top;\n",
       "    }\n",
       "\n",
       "    .dataframe thead th {\n",
       "        text-align: right;\n",
       "    }\n",
       "</style>\n",
       "<table border=\"1\" class=\"dataframe\">\n",
       "  <thead>\n",
       "    <tr style=\"text-align: right;\">\n",
       "      <th></th>\n",
       "      <th>Ejemplo</th>\n",
       "    </tr>\n",
       "  </thead>\n",
       "  <tbody>\n",
       "    <tr>\n",
       "      <th>Integer</th>\n",
       "      <td>20250216</td>\n",
       "    </tr>\n",
       "    <tr>\n",
       "      <th>Float</th>\n",
       "      <td>0.9</td>\n",
       "    </tr>\n",
       "    <tr>\n",
       "      <th>String</th>\n",
       "      <td>Feb-16</td>\n",
       "    </tr>\n",
       "    <tr>\n",
       "      <th>Boolean</th>\n",
       "      <td>True</td>\n",
       "    </tr>\n",
       "  </tbody>\n",
       "</table>\n",
       "</div>"
      ],
      "text/plain": [
       "          Ejemplo\n",
       "Integer  20250216\n",
       "Float         0.9\n",
       "String     Feb-16\n",
       "Boolean      True"
      ]
     },
     "execution_count": 26,
     "metadata": {},
     "output_type": "execute_result"
    }
   ],
   "source": [
    "tablaTipo = pd.DataFrame(data=Ejemplo, index=Tipo, columns=['Ejemplo'])\n",
    "tablaTipo"
   ]
  },
  {
   "cell_type": "code",
   "execution_count": 27,
   "id": "291b7e2b-de16-4066-9468-dda13c5895c2",
   "metadata": {},
   "outputs": [
    {
     "data": {
      "text/plain": [
       "'Integer'"
      ]
     },
     "execution_count": 27,
     "metadata": {},
     "output_type": "execute_result"
    }
   ],
   "source": [
    "Tipo[0]"
   ]
  },
  {
   "cell_type": "code",
   "execution_count": 28,
   "id": "0657abd9-257f-4641-8bc9-45de19dd7758",
   "metadata": {},
   "outputs": [
    {
     "data": {
      "text/plain": [
       "Integer    20250216\n",
       "Float           0.9\n",
       "String       Feb-16\n",
       "Boolean        True\n",
       "Name: Ejemplo, dtype: object"
      ]
     },
     "execution_count": 28,
     "metadata": {},
     "output_type": "execute_result"
    }
   ],
   "source": [
    "tablaTipo['Ejemplo']"
   ]
  },
  {
   "cell_type": "code",
   "execution_count": 29,
   "id": "950882ab-169f-4808-a433-beb0ff2eba3f",
   "metadata": {},
   "outputs": [
    {
     "data": {
      "text/html": [
       "<div>\n",
       "<style scoped>\n",
       "    .dataframe tbody tr th:only-of-type {\n",
       "        vertical-align: middle;\n",
       "    }\n",
       "\n",
       "    .dataframe tbody tr th {\n",
       "        vertical-align: top;\n",
       "    }\n",
       "\n",
       "    .dataframe thead th {\n",
       "        text-align: right;\n",
       "    }\n",
       "</style>\n",
       "<table border=\"1\" class=\"dataframe\">\n",
       "  <thead>\n",
       "    <tr style=\"text-align: right;\">\n",
       "      <th></th>\n",
       "      <th>peso</th>\n",
       "      <th>estatura</th>\n",
       "      <th>sexo</th>\n",
       "    </tr>\n",
       "  </thead>\n",
       "  <tbody>\n",
       "    <tr>\n",
       "      <th>0</th>\n",
       "      <td>73.7</td>\n",
       "      <td>1.68</td>\n",
       "      <td>1</td>\n",
       "    </tr>\n",
       "    <tr>\n",
       "      <th>1</th>\n",
       "      <td>77.1</td>\n",
       "      <td>1.76</td>\n",
       "      <td>0</td>\n",
       "    </tr>\n",
       "    <tr>\n",
       "      <th>2</th>\n",
       "      <td>59.3</td>\n",
       "      <td>1.60</td>\n",
       "      <td>1</td>\n",
       "    </tr>\n",
       "    <tr>\n",
       "      <th>3</th>\n",
       "      <td>85.5</td>\n",
       "      <td>1.83</td>\n",
       "      <td>0</td>\n",
       "    </tr>\n",
       "    <tr>\n",
       "      <th>4</th>\n",
       "      <td>56.2</td>\n",
       "      <td>1.62</td>\n",
       "      <td>1</td>\n",
       "    </tr>\n",
       "    <tr>\n",
       "      <th>...</th>\n",
       "      <td>...</td>\n",
       "      <td>...</td>\n",
       "      <td>...</td>\n",
       "    </tr>\n",
       "    <tr>\n",
       "      <th>58</th>\n",
       "      <td>54.9</td>\n",
       "      <td>1.58</td>\n",
       "      <td>1</td>\n",
       "    </tr>\n",
       "    <tr>\n",
       "      <th>59</th>\n",
       "      <td>73.6</td>\n",
       "      <td>1.75</td>\n",
       "      <td>0</td>\n",
       "    </tr>\n",
       "    <tr>\n",
       "      <th>60</th>\n",
       "      <td>62.2</td>\n",
       "      <td>1.60</td>\n",
       "      <td>1</td>\n",
       "    </tr>\n",
       "    <tr>\n",
       "      <th>61</th>\n",
       "      <td>80.9</td>\n",
       "      <td>1.80</td>\n",
       "      <td>0</td>\n",
       "    </tr>\n",
       "    <tr>\n",
       "      <th>62</th>\n",
       "      <td>58.4</td>\n",
       "      <td>1.58</td>\n",
       "      <td>1</td>\n",
       "    </tr>\n",
       "  </tbody>\n",
       "</table>\n",
       "<p>63 rows × 3 columns</p>\n",
       "</div>"
      ],
      "text/plain": [
       "    peso  estatura  sexo\n",
       "0   73.7      1.68     1\n",
       "1   77.1      1.76     0\n",
       "2   59.3      1.60     1\n",
       "3   85.5      1.83     0\n",
       "4   56.2      1.62     1\n",
       "..   ...       ...   ...\n",
       "58  54.9      1.58     1\n",
       "59  73.6      1.75     0\n",
       "60  62.2      1.60     1\n",
       "61  80.9      1.80     0\n",
       "62  58.4      1.58     1\n",
       "\n",
       "[63 rows x 3 columns]"
      ]
     },
     "execution_count": 29,
     "metadata": {},
     "output_type": "execute_result"
    }
   ],
   "source": [
    "antropo = pd.read_csv('https://raw.githubusercontent.com/abemen/datasets/refs/heads/main/antropo-latinos.csv')\n",
    "antropo"
   ]
  },
  {
   "cell_type": "markdown",
   "id": "dd67c379-9cd3-4a10-9d96-53579b0865b8",
   "metadata": {},
   "source": [
    "# WebScraping con BeautifulSoup"
   ]
  },
  {
   "cell_type": "code",
   "execution_count": 30,
   "id": "fbd56536-e511-4904-83bd-e819d91334d8",
   "metadata": {},
   "outputs": [],
   "source": [
    "import requests\n",
    "from bs4 import BeautifulSoup\n",
    "from io import StringIO"
   ]
  },
  {
   "cell_type": "code",
   "execution_count": 31,
   "id": "ce814f9a-0032-43c9-b5bf-010993a7f712",
   "metadata": {},
   "outputs": [],
   "source": [
    "# Enlace a la pagina\n",
    "url = 'https://es.wikipedia.org/wiki/Organizaci%C3%B3n_territorial_de_Guatemala'"
   ]
  },
  {
   "cell_type": "code",
   "execution_count": 32,
   "id": "258e369b-db68-4a31-bc52-713eec3c7c86",
   "metadata": {},
   "outputs": [],
   "source": [
    "response = requests.get(url)"
   ]
  },
  {
   "cell_type": "code",
   "execution_count": 33,
   "id": "9c16190c-d850-4e94-a3af-c8ec635aa6dd",
   "metadata": {},
   "outputs": [
    {
     "name": "stdout",
     "output_type": "stream",
     "text": [
      "Status code  https://es.wikipedia.org/wiki/Organizaci%C3%B3n_territorial_de_Guatemala : 200\n"
     ]
    }
   ],
   "source": [
    "print('Status code ',url, ':', response.status_code)"
   ]
  },
  {
   "cell_type": "code",
   "execution_count": 34,
   "id": "0cd39600-52a1-41f7-857d-a947e2ea0260",
   "metadata": {},
   "outputs": [],
   "source": [
    "soup = BeautifulSoup(response.text, 'html.parser')"
   ]
  },
  {
   "cell_type": "code",
   "execution_count": 35,
   "id": "e825dbee-ac25-47ab-a952-6233bbe92ffe",
   "metadata": {},
   "outputs": [],
   "source": [
    "tabla = soup.find('table', {'class':'wikitable'})"
   ]
  },
  {
   "cell_type": "code",
   "execution_count": 36,
   "id": "69f2b6a3-deb5-46f8-8da8-1076eeefbd54",
   "metadata": {},
   "outputs": [
    {
     "data": {
      "text/plain": [
       "<table cellpadding=\"0\" cellspacing=\"2\" class=\"wikitable\" style=\"float:center; margin: 0.5em 0.5em 0.5em 1em; padding: 0.5e text-align:left;clear:all; margin-left:3px; font-size:90%\" width=\"500\">\n",
       "<tbody><tr>\n",
       "<td align=\"center\" bgcolor=\"#659ec7\" colspan=\"4\" style=\"background:#black; color:white;\"><b>Departamentos de Guatemala</b>\n",
       "</td></tr>\n",
       "<tr>\n",
       "<td align=\"center\" colspan=\"4\"><div class=\"nounderlines noresize notheme\" style=\"width: 450px; float: none; clear: none; position: relative;\">\n",
       "<div><span typeof=\"mw:File\"><a class=\"mw-file-description\" href=\"/wiki/Archivo:Departamentos_de_Guatemala_(sin_etiquetas).jpg\"><img alt=\"\" class=\"mw-file-element\" data-file-height=\"599\" data-file-width=\"545\" decoding=\"async\" height=\"495\" src=\"//upload.wikimedia.org/wikipedia/commons/thumb/1/1c/Departamentos_de_Guatemala_%28sin_etiquetas%29.jpg/450px-Departamentos_de_Guatemala_%28sin_etiquetas%29.jpg\" srcset=\"//upload.wikimedia.org/wikipedia/commons/1/1c/Departamentos_de_Guatemala_%28sin_etiquetas%29.jpg 1.5x\" width=\"450\"/></a></span>\n",
       "<div style=\"font-size: 7pt; line-height: 10px;\"><div style=\"position: absolute; left:285.5px; top: 327.5px;\"><b><a href=\"/wiki/Departamento_de_Zacapa\" title=\"Departamento de Zacapa\">Zacapa</a></b></div></div>\n",
       "<div style=\"font-size: 7pt; line-height: 10px;\"><div style=\"position: absolute; left:285.5px; top: 363px;\"><b><a href=\"/wiki/Departamento_de_Chiquimula\" title=\"Departamento de Chiquimula\">Chiquimula</a></b></div></div>\n",
       "<div style=\"font-size: 7pt; line-height: 10px;\"><div style=\"position: absolute; left:139.75px; top: 379.75px;\"><b><a href=\"/wiki/Departamento_de_Sacatep%C3%A9quez\" title=\"Departamento de Sacatepéquez\">Sacatepéquez</a></b></div></div>\n",
       "<div style=\"font-size: 7pt; line-height: 10px;\"><div style=\"position: absolute; left:32.5px; top: 322px;\"><b></b><center><b><a href=\"/wiki/Departamento_de_San_Marcos\" title=\"Departamento de San Marcos\">San<br/>Marcos</a></b></center></div></div>\n",
       "<div style=\"font-size: 7pt; line-height: 10px;\"><div style=\"position: absolute; left:29.75px; top: 390.75px;\"><b><a class=\"mw-redirect\" href=\"/wiki/Departamento_de_Retalhuleu\" title=\"Departamento de Retalhuleu\">Retalhuléu</a></b></div></div>\n",
       "<div style=\"font-size: 7pt; line-height: 10px;\"><div style=\"position: absolute; left:46.25px; top: 256px;\"><b><a href=\"/wiki/Departamento_de_Huehuetenango\" title=\"Departamento de Huehuetenango\">Huehuetenango</a></b></div></div>\n",
       "<div style=\"font-size: 7pt; line-height: 10px;\"><div style=\"position: absolute; left:131.5px; top: 280.75px;\"><b><a href=\"/wiki/Departamento_de_Quich%C3%A9\" title=\"Departamento de Quiché\">Quiché</a></b></div></div>\n",
       "<div style=\"font-size: 7pt; line-height: 10px;\"><div style=\"position: absolute; left:208.5px; top: 261.5px;\"><b><a href=\"/wiki/Departamento_de_Alta_Verapaz\" title=\"Departamento de Alta Verapaz\">Alta Verapaz</a></b></div></div>\n",
       "<div style=\"font-size: 7pt; line-height: 10px;\"><div style=\"position: absolute; left:337.2px; top: 267.6px;\"><b><a href=\"/wiki/Departamento_de_Izabal\" title=\"Departamento de Izabal\">Izabal</a></b></div></div>\n",
       "<div style=\"font-size: 7pt; line-height: 10px;\"><div style=\"position: absolute; left:79.25px; top: 389.65px;\"><b><a href=\"/wiki/Departamento_de_Suchitep%C3%A9quez\" title=\"Departamento de Suchitepéquez\">Suchitepéquez</a></b></div></div>\n",
       "<div style=\"font-size: 7pt; line-height: 10px;\"><div style=\"position: absolute; left:175.5px; top: 319.25px;\"><b><a href=\"/wiki/Departamento_de_Baja_Verapaz\" title=\"Departamento de Baja Verapaz\">Baja Verapaz</a></b></div></div>\n",
       "<div style=\"font-size: 7pt; line-height: 10px;\"><div style=\"position: absolute; left:126px; top: 357.75px;\"><b><a href=\"/wiki/Departamento_de_Chimaltenango\" title=\"Departamento de Chimaltenango\">Chimaltenango</a></b></div></div>\n",
       "<div style=\"font-size: 7pt; line-height: 10px;\"><div style=\"position: absolute; left:216.75px; top: 334.65px;\"><b></b><center><b><a href=\"/wiki/Departamento_de_El_Progreso\" title=\"Departamento de El Progreso\">El<br/>Progreso</a></b></center></div></div>\n",
       "<div style=\"font-size: 7pt; line-height: 10px;\"><div style=\"position: absolute; left:230.55px; top: 123.1px;\"><b><a href=\"/wiki/Departamento_de_Pet%C3%A9n\" title=\"Departamento de Petén\">Petén</a></b></div></div>\n",
       "<div style=\"font-size: 7pt; line-height: 10px;\"><div style=\"position: absolute; left:239.85px; top: 371.5px;\"><b><a href=\"/wiki/Departamento_de_Jalapa\" title=\"Departamento de Jalapa\">Jalapa</a></b></div></div>\n",
       "<div style=\"font-size: 7pt; line-height: 10px;\"><div style=\"position: absolute; left:117.75px; top: 426.5px;\"><b><a href=\"/wiki/Departamento_de_Escuintla\" title=\"Departamento de Escuintla\">Escuintla</a></b></div></div>\n",
       "<div style=\"font-size: 7pt; line-height: 10px;\"><div style=\"position: absolute; left:84.75px; top: 470.5px;\"><a href=\"/wiki/Oc%C3%A9ano_Pac%C3%ADfico\" title=\"Océano Pacífico\"><i style=\"color: #35759F\">\n",
       "Océano Pacífico</i></a></div></div>\n",
       "<div style=\"font-size: 7pt; line-height: 10px;\"><div style=\"position: absolute; left:245.35px; top: 415.5px;\"><b><a href=\"/wiki/Departamento_de_Jutiapa\" title=\"Departamento de Jutiapa\">Jutiapa</a></b></div></div>\n",
       "<div style=\"font-size: 7pt; line-height: 10px;\"><div style=\"position: absolute; left:379px; top: 355px;\"><b><a href=\"/wiki/Honduras\" title=\"Honduras\"><i style=\"color: black\">Honduras</i></a></b></div></div>\n",
       "<div style=\"font-size: 7pt; line-height: 10px;\"><div style=\"position: absolute; left:330.6px; top: 459.5px;\"><b><a href=\"/wiki/El_Salvador\" title=\"El Salvador\"><i style=\"color: black\">El Salvador</i></a></b></div></div>\n",
       "<div style=\"font-size: 7pt; line-height: 10px;\"><div style=\"position: absolute; left:406.5px; top: 206.5px;\"><a href=\"/wiki/Mar_Caribe\" title=\"Mar Caribe\"><i style=\"color: #35759F\">\n",
       "Mar Caribe</i></a></div></div>\n",
       "<div style=\"font-size: 7pt; line-height: 10px;\"><div style=\"position: absolute; left:46.25px; top: 348.4px;\"><center><b><a href=\"/wiki/Departamento_de_Quetzaltenango\" title=\"Departamento de Quetzaltenango\">Quetzaltenango</a></b></center></div></div>\n",
       "<div style=\"font-size: 7pt; line-height: 10px;\"><div style=\"position: absolute; left:368px; top: 91px;\"><b><a href=\"/wiki/Belice\" title=\"Belice\"><i style=\"color: black\">Belice</i></a></b></div></div>\n",
       "<div style=\"font-size: 7pt; line-height: 10px;\"><div style=\"position: absolute; left:76.5px; top: 327.5px;\"><b><a href=\"/wiki/Departamento_de_Totonicap%C3%A1n\" title=\"Departamento de Totonicapán\">Totonicapán</a></b></div></div>\n",
       "<div style=\"font-size: 7pt; line-height: 10px;\"><div style=\"position: absolute; left:98.5px; top: 362.15px;\"><b><a href=\"/wiki/Departamento_de_Solol%C3%A1\" title=\"Departamento de Sololá\">Sololá</a></b></div></div>\n",
       "<div style=\"font-size: 7pt; line-height: 10px;\"><div style=\"position: absolute; left:200.25px; top: 415.5px;\"><center><b><a href=\"/wiki/Departamento_de_Santa_Rosa_(Guatemala)\" title=\"Departamento de Santa Rosa (Guatemala)\">Santa<br/>Rosa</a></b></center></div></div>\n",
       "<div style=\"font-size: 7pt; line-height: 10px;\"><div style=\"position: absolute; left:178.25px; top: 368.75px;\"><b><a href=\"/wiki/Departamento_de_Guatemala\" title=\"Departamento de Guatemala\">Guatemala</a></b></div></div>\n",
       "<div style=\"font-size: 7pt; line-height: 10px;\"><div style=\"position: absolute; left:27px; top: 88.25px;\"><b><a href=\"/wiki/M%C3%A9xico\" title=\"México\"><i style=\"color: black\">México</i></a></b></div></div>\n",
       "</div></div>\n",
       "<table align=\"center\" border=\"0\" class=\"sortable striped\" style=\"vertical-align:top; border: 1px solid #999; background-color:#FFFFFF; font-size:0.9em\">\n",
       "<tbody><tr align=\"center\" bgcolor=\"#d8d8d8\">\n",
       "<th style=\"min-width: 150px; max-width: 235px;\">Departamento\n",
       "</th>\n",
       "<th>Cabecera\n",
       "</th>\n",
       "<th>Superficie<br/>(km²)\n",
       "</th>\n",
       "<th>Población <br/>(hab.)<sup class=\"mw-references separada\" id=\"cite_ref-1\"><a href=\"#cite_note-1\"><span class=\"cite-bracket\">[</span>1<span class=\"cite-bracket\">]</span></a></sup>​\n",
       "</th></tr>\n",
       "<tr>\n",
       "<td><span class=\"flagicon\"><span class=\"mw-image-border\" typeof=\"mw:File\"><a class=\"mw-file-description\" href=\"/wiki/Archivo:Bandera_de_Alta_Verapaz.svg\"><img class=\"mw-file-element\" data-file-height=\"886\" data-file-width=\"1417\" decoding=\"async\" height=\"13\" src=\"//upload.wikimedia.org/wikipedia/commons/thumb/b/ba/Bandera_de_Alta_Verapaz.svg/20px-Bandera_de_Alta_Verapaz.svg.png\" srcset=\"//upload.wikimedia.org/wikipedia/commons/thumb/b/ba/Bandera_de_Alta_Verapaz.svg/30px-Bandera_de_Alta_Verapaz.svg.png 1.5x, //upload.wikimedia.org/wikipedia/commons/thumb/b/ba/Bandera_de_Alta_Verapaz.svg/40px-Bandera_de_Alta_Verapaz.svg.png 2x\" width=\"20\"/></a></span> </span><a href=\"/wiki/Departamento_de_Alta_Verapaz\" title=\"Departamento de Alta Verapaz\">Alta Verapaz</a></td>\n",
       "<td><a href=\"/wiki/Cob%C3%A1n\" title=\"Cobán\">Cobán</a></td>\n",
       "<td align=\"right\" style=\"\">8 686</td>\n",
       "<td align=\"right\" style=\"\">1 112 781\n",
       "</td></tr>\n",
       "<tr>\n",
       "<td><span class=\"flagicon\"><span class=\"mw-image-border\" typeof=\"mw:File\"><a class=\"mw-file-description\" href=\"/wiki/Archivo:Flag_of_Baja_Verapaz,_Guatemala.png\"><img class=\"mw-file-element\" data-file-height=\"325\" data-file-width=\"540\" decoding=\"async\" height=\"12\" src=\"//upload.wikimedia.org/wikipedia/commons/thumb/3/3a/Flag_of_Baja_Verapaz%2C_Guatemala.png/20px-Flag_of_Baja_Verapaz%2C_Guatemala.png\" srcset=\"//upload.wikimedia.org/wikipedia/commons/thumb/3/3a/Flag_of_Baja_Verapaz%2C_Guatemala.png/40px-Flag_of_Baja_Verapaz%2C_Guatemala.png 1.5x\" width=\"20\"/></a></span> </span><a href=\"/wiki/Departamento_de_Baja_Verapaz\" title=\"Departamento de Baja Verapaz\">Baja Verapaz</a></td>\n",
       "<td><a href=\"/wiki/Salam%C3%A1\" title=\"Salamá\">Salamá</a></td>\n",
       "<td align=\"right\" style=\"\">3 124</td>\n",
       "<td align=\"right\" style=\"\">270 521\n",
       "</td></tr>\n",
       "<tr>\n",
       "<td><span class=\"flagicon\"><span class=\"mw-image-border\" typeof=\"mw:File\"><a class=\"mw-file-description\" href=\"/wiki/Archivo:Vlagchimaltenango.gif\"><img class=\"mw-file-element\" data-file-height=\"217\" data-file-width=\"326\" decoding=\"async\" height=\"13\" src=\"//upload.wikimedia.org/wikipedia/commons/thumb/9/98/Vlagchimaltenango.gif/20px-Vlagchimaltenango.gif\" srcset=\"//upload.wikimedia.org/wikipedia/commons/thumb/9/98/Vlagchimaltenango.gif/30px-Vlagchimaltenango.gif 1.5x, //upload.wikimedia.org/wikipedia/commons/thumb/9/98/Vlagchimaltenango.gif/40px-Vlagchimaltenango.gif 2x\" width=\"20\"/></a></span> </span><a href=\"/wiki/Departamento_de_Chimaltenango\" title=\"Departamento de Chimaltenango\">Chimaltenango</a></td>\n",
       "<td><a href=\"/wiki/Chimaltenango_(municipio)\" title=\"Chimaltenango (municipio)\">Chimaltenango</a></td>\n",
       "<td align=\"right\" style=\"\">1 979</td>\n",
       "<td align=\"right\" style=\"\">666 938\n",
       "</td></tr>\n",
       "<tr>\n",
       "<td><span class=\"flagicon\"><span class=\"mw-image-border\" typeof=\"mw:File\"><a class=\"mw-file-description\" href=\"/wiki/Archivo:Bandera_de_Chiquimula.png\"><img class=\"mw-file-element\" data-file-height=\"446\" data-file-width=\"693\" decoding=\"async\" height=\"13\" src=\"//upload.wikimedia.org/wikipedia/commons/thumb/a/ae/Bandera_de_Chiquimula.png/20px-Bandera_de_Chiquimula.png\" srcset=\"//upload.wikimedia.org/wikipedia/commons/thumb/a/ae/Bandera_de_Chiquimula.png/30px-Bandera_de_Chiquimula.png 1.5x, //upload.wikimedia.org/wikipedia/commons/thumb/a/ae/Bandera_de_Chiquimula.png/40px-Bandera_de_Chiquimula.png 2x\" width=\"20\"/></a></span> </span><a href=\"/wiki/Departamento_de_Chiquimula\" title=\"Departamento de Chiquimula\">Chiquimula</a></td>\n",
       "<td><a href=\"/wiki/Chiquimula_(municipio)\" title=\"Chiquimula (municipio)\">Chiquimula</a></td>\n",
       "<td align=\"right\" style=\"\">2 376</td>\n",
       "<td align=\"right\" style=\"\">370 891\n",
       "</td></tr>\n",
       "<tr>\n",
       "<td><span class=\"flagicon\"><span class=\"mw-image-border\" typeof=\"mw:File\"><a class=\"mw-file-description\" href=\"/wiki/Archivo:Bandera_de_El_Progreso.jpg\"><img class=\"mw-file-element\" data-file-height=\"196\" data-file-width=\"293\" decoding=\"async\" height=\"13\" src=\"//upload.wikimedia.org/wikipedia/commons/thumb/6/66/Bandera_de_El_Progreso.jpg/20px-Bandera_de_El_Progreso.jpg\" srcset=\"//upload.wikimedia.org/wikipedia/commons/thumb/6/66/Bandera_de_El_Progreso.jpg/30px-Bandera_de_El_Progreso.jpg 1.5x, //upload.wikimedia.org/wikipedia/commons/thumb/6/66/Bandera_de_El_Progreso.jpg/40px-Bandera_de_El_Progreso.jpg 2x\" width=\"20\"/></a></span> </span><a href=\"/wiki/Departamento_de_El_Progreso\" title=\"Departamento de El Progreso\">El Progreso</a></td>\n",
       "<td><a href=\"/wiki/Guastatoya\" title=\"Guastatoya\">Guastatoya</a></td>\n",
       "<td align=\"right\" style=\"\">1 922</td>\n",
       "<td align=\"right\" style=\"\">158 092\n",
       "</td></tr>\n",
       "<tr>\n",
       "<td><span class=\"flagicon\"><span class=\"mw-image-border\" typeof=\"mw:File\"><a class=\"mw-file-description\" href=\"/wiki/Archivo:Flag_of_Escuintla.svg\"><img class=\"mw-file-element\" data-file-height=\"320\" data-file-width=\"512\" decoding=\"async\" height=\"13\" src=\"//upload.wikimedia.org/wikipedia/commons/thumb/2/2e/Flag_of_Escuintla.svg/20px-Flag_of_Escuintla.svg.png\" srcset=\"//upload.wikimedia.org/wikipedia/commons/thumb/2/2e/Flag_of_Escuintla.svg/40px-Flag_of_Escuintla.svg.png 1.5x\" width=\"20\"/></a></span> </span><a href=\"/wiki/Departamento_de_Escuintla\" title=\"Departamento de Escuintla\">Escuintla</a></td>\n",
       "<td><a class=\"mw-redirect\" href=\"/wiki/Escuintla_(municipio)\" title=\"Escuintla (municipio)\">Escuintla</a></td>\n",
       "<td align=\"right\" style=\"\">4 384</td>\n",
       "<td align=\"right\" style=\"\">701 016\n",
       "</td></tr>\n",
       "<tr>\n",
       "<td><span class=\"flagicon\"><span class=\"mw-image-border\" typeof=\"mw:File\"><a class=\"mw-file-description\" href=\"/wiki/Archivo:Bandera_del_Departamento_Guatemala.svg\"><img class=\"mw-file-element\" data-file-height=\"270\" data-file-width=\"420\" decoding=\"async\" height=\"13\" src=\"//upload.wikimedia.org/wikipedia/commons/thumb/4/47/Bandera_del_Departamento_Guatemala.svg/20px-Bandera_del_Departamento_Guatemala.svg.png\" srcset=\"//upload.wikimedia.org/wikipedia/commons/thumb/4/47/Bandera_del_Departamento_Guatemala.svg/40px-Bandera_del_Departamento_Guatemala.svg.png 1.5x\" width=\"20\"/></a></span> </span><a href=\"/wiki/Departamento_de_Guatemala\" title=\"Departamento de Guatemala\">Guatemala</a></td>\n",
       "<td><a href=\"/wiki/Ciudad_de_Guatemala\" title=\"Ciudad de Guatemala\">Ciudad de Guatemala</a></td>\n",
       "<td align=\"right\" style=\"\">2 126</td>\n",
       "<td align=\"right\" style=\"\">2 541 581\n",
       "</td></tr>\n",
       "<tr>\n",
       "<td><span class=\"flagicon\"><span class=\"mw-image-border\" typeof=\"mw:File\"><a class=\"mw-file-description\" href=\"/wiki/Archivo:Flag_Huehuetenango.png\"><img class=\"mw-file-element\" data-file-height=\"367\" data-file-width=\"638\" decoding=\"async\" height=\"12\" src=\"//upload.wikimedia.org/wikipedia/commons/thumb/5/5b/Flag_Huehuetenango.png/20px-Flag_Huehuetenango.png\" srcset=\"//upload.wikimedia.org/wikipedia/commons/thumb/5/5b/Flag_Huehuetenango.png/30px-Flag_Huehuetenango.png 1.5x, //upload.wikimedia.org/wikipedia/commons/thumb/5/5b/Flag_Huehuetenango.png/40px-Flag_Huehuetenango.png 2x\" width=\"20\"/></a></span> </span><a class=\"mw-redirect\" href=\"/wiki/Huehuetenango\" title=\"Huehuetenango\">Huehuetenango</a></td>\n",
       "<td><a href=\"/wiki/Huehuetenango_(municipio)\" title=\"Huehuetenango (municipio)\">Huehuetenango</a></td>\n",
       "<td align=\"right\" style=\"\">7 400</td>\n",
       "<td align=\"right\" style=\"\">1 143 887\n",
       "</td></tr>\n",
       "<tr>\n",
       "<td><span class=\"flagicon\"><span class=\"mw-image-border\" typeof=\"mw:File\"><a class=\"mw-file-description\" href=\"/wiki/Archivo:Izabal_Flag_(GUATEMALA).png\"><img class=\"mw-file-element\" data-file-height=\"200\" data-file-width=\"310\" decoding=\"async\" height=\"13\" src=\"//upload.wikimedia.org/wikipedia/commons/thumb/8/87/Izabal_Flag_%28GUATEMALA%29.png/20px-Izabal_Flag_%28GUATEMALA%29.png\" srcset=\"//upload.wikimedia.org/wikipedia/commons/thumb/8/87/Izabal_Flag_%28GUATEMALA%29.png/40px-Izabal_Flag_%28GUATEMALA%29.png 1.5x\" width=\"20\"/></a></span> </span><a href=\"/wiki/Departamento_de_Izabal\" title=\"Departamento de Izabal\">Izabal</a></td>\n",
       "<td><a href=\"/wiki/Puerto_Barrios\" title=\"Puerto Barrios\">Puerto Barrios</a></td>\n",
       "<td align=\"right\" style=\"\">9 038</td>\n",
       "<td align=\"right\" style=\"\">413 399\n",
       "</td></tr>\n",
       "<tr>\n",
       "<td><span class=\"flagicon\"><span class=\"mw-image-border\" typeof=\"mw:File\"><a class=\"mw-file-description\" href=\"/wiki/Archivo:Flag_of_Jalapa_Department,_Guatemala.svg\" title=\"Bandera de Jalapa\"><img alt=\"Bandera de Jalapa\" class=\"mw-file-element\" data-file-height=\"442\" data-file-width=\"657\" decoding=\"async\" height=\"13\" src=\"//upload.wikimedia.org/wikipedia/commons/thumb/7/74/Flag_of_Jalapa_Department%2C_Guatemala.svg/20px-Flag_of_Jalapa_Department%2C_Guatemala.svg.png\" srcset=\"//upload.wikimedia.org/wikipedia/commons/thumb/7/74/Flag_of_Jalapa_Department%2C_Guatemala.svg/30px-Flag_of_Jalapa_Department%2C_Guatemala.svg.png 1.5x, //upload.wikimedia.org/wikipedia/commons/thumb/7/74/Flag_of_Jalapa_Department%2C_Guatemala.svg/40px-Flag_of_Jalapa_Department%2C_Guatemala.svg.png 2x\" width=\"20\"/></a></span> </span><a href=\"/wiki/Departamento_de_Jalapa\" title=\"Departamento de Jalapa\">Jalapa</a></td>\n",
       "<td><a href=\"/wiki/Jalapa_(Ciudad)\" title=\"Jalapa (Ciudad)\">Jalapa</a></td>\n",
       "<td align=\"right\" style=\"\">2 063</td>\n",
       "<td align=\"right\" style=\"\">318 420\n",
       "</td></tr>\n",
       "<tr>\n",
       "<td><span class=\"flagicon\"><span class=\"mw-image-border\" typeof=\"mw:File\"><a class=\"mw-file-description\" href=\"/wiki/Archivo:Vlagjutiapa.gif\"><img class=\"mw-file-element\" data-file-height=\"217\" data-file-width=\"326\" decoding=\"async\" height=\"13\" src=\"//upload.wikimedia.org/wikipedia/commons/thumb/8/8c/Vlagjutiapa.gif/20px-Vlagjutiapa.gif\" srcset=\"//upload.wikimedia.org/wikipedia/commons/thumb/8/8c/Vlagjutiapa.gif/30px-Vlagjutiapa.gif 1.5x, //upload.wikimedia.org/wikipedia/commons/thumb/8/8c/Vlagjutiapa.gif/40px-Vlagjutiapa.gif 2x\" width=\"20\"/></a></span> </span><a href=\"/wiki/Departamento_de_Jutiapa\" title=\"Departamento de Jutiapa\">Jutiapa</a></td>\n",
       "<td><a href=\"/wiki/Jutiapa_(municipio)\" title=\"Jutiapa (municipio)\">Jutiapa</a></td>\n",
       "<td align=\"right\" style=\"\">3 216</td>\n",
       "<td align=\"right\" style=\"\">436 076\n",
       "</td></tr>\n",
       "<tr>\n",
       "<td><span class=\"flagicon\"><span class=\"mw-image-border\" typeof=\"mw:File\"><a class=\"mw-file-description\" href=\"/wiki/Archivo:Bandera_del_Departamento_El_Pet%C3%A9n.png\"><img class=\"mw-file-element\" data-file-height=\"1646\" data-file-width=\"2788\" decoding=\"async\" height=\"12\" src=\"//upload.wikimedia.org/wikipedia/commons/thumb/3/3c/Bandera_del_Departamento_El_Pet%C3%A9n.png/20px-Bandera_del_Departamento_El_Pet%C3%A9n.png\" srcset=\"//upload.wikimedia.org/wikipedia/commons/thumb/3/3c/Bandera_del_Departamento_El_Pet%C3%A9n.png/30px-Bandera_del_Departamento_El_Pet%C3%A9n.png 1.5x, //upload.wikimedia.org/wikipedia/commons/thumb/3/3c/Bandera_del_Departamento_El_Pet%C3%A9n.png/40px-Bandera_del_Departamento_El_Pet%C3%A9n.png 2x\" width=\"20\"/></a></span> </span><a href=\"/wiki/Departamento_de_Pet%C3%A9n\" title=\"Departamento de Petén\">Petén</a></td>\n",
       "<td><a href=\"/wiki/Flores_(Pet%C3%A9n)\" title=\"Flores (Petén)\">Flores</a></td>\n",
       "<td align=\"right\" style=\"\">35 854</td>\n",
       "<td align=\"right\" style=\"\">638 296\n",
       "</td></tr>\n",
       "<tr>\n",
       "<td><span class=\"flagicon\"><span class=\"mw-image-border\" typeof=\"mw:File\"><a class=\"mw-file-description\" href=\"/wiki/Archivo:Bandera_del_Departamento_Quetzaltenango.gif\"><img class=\"mw-file-element\" data-file-height=\"217\" data-file-width=\"325\" decoding=\"async\" height=\"13\" src=\"//upload.wikimedia.org/wikipedia/commons/thumb/3/3c/Bandera_del_Departamento_Quetzaltenango.gif/20px-Bandera_del_Departamento_Quetzaltenango.gif\" srcset=\"//upload.wikimedia.org/wikipedia/commons/thumb/3/3c/Bandera_del_Departamento_Quetzaltenango.gif/30px-Bandera_del_Departamento_Quetzaltenango.gif 1.5x, //upload.wikimedia.org/wikipedia/commons/thumb/3/3c/Bandera_del_Departamento_Quetzaltenango.gif/40px-Bandera_del_Departamento_Quetzaltenango.gif 2x\" width=\"20\"/></a></span> </span><a href=\"/wiki/Departamento_de_Quetzaltenango\" title=\"Departamento de Quetzaltenango\">Quetzaltenango</a></td>\n",
       "<td><a href=\"/wiki/Quetzaltenango\" title=\"Quetzaltenango\">Quetzaltenango</a></td>\n",
       "<td align=\"right\" style=\"\">1 953</td>\n",
       "<td align=\"right\" style=\"\">789 358\n",
       "</td></tr>\n",
       "<tr>\n",
       "<td><span class=\"flagicon\"><span class=\"mw-image-border\" typeof=\"mw:File\"><a class=\"mw-file-description\" href=\"/wiki/Archivo:El_Quich%C3%A9_Flag_(GUATEMALA).png\"><img class=\"mw-file-element\" data-file-height=\"350\" data-file-width=\"600\" decoding=\"async\" height=\"12\" src=\"//upload.wikimedia.org/wikipedia/commons/thumb/1/1e/El_Quich%C3%A9_Flag_%28GUATEMALA%29.png/20px-El_Quich%C3%A9_Flag_%28GUATEMALA%29.png\" srcset=\"//upload.wikimedia.org/wikipedia/commons/thumb/1/1e/El_Quich%C3%A9_Flag_%28GUATEMALA%29.png/40px-El_Quich%C3%A9_Flag_%28GUATEMALA%29.png 1.5x\" width=\"20\"/></a></span> </span><a href=\"/wiki/Departamento_de_Quich%C3%A9\" title=\"Departamento de Quiché\">Quiché</a></td>\n",
       "<td><a href=\"/wiki/Santa_Cruz_del_Quich%C3%A9\" title=\"Santa Cruz del Quiché\">Santa Cruz del Quiché</a></td>\n",
       "<td align=\"right\" style=\"\">8 378</td>\n",
       "<td align=\"right\" style=\"\">953 027\n",
       "</td></tr>\n",
       "<tr>\n",
       "<td><span class=\"flagicon\"><span class=\"mw-image-border\" typeof=\"mw:File\"><a class=\"mw-file-description\" href=\"/wiki/Archivo:Vlagretalhuleu.gif\"><img class=\"mw-file-element\" data-file-height=\"217\" data-file-width=\"326\" decoding=\"async\" height=\"13\" src=\"//upload.wikimedia.org/wikipedia/commons/thumb/7/75/Vlagretalhuleu.gif/20px-Vlagretalhuleu.gif\" srcset=\"//upload.wikimedia.org/wikipedia/commons/thumb/7/75/Vlagretalhuleu.gif/30px-Vlagretalhuleu.gif 1.5x, //upload.wikimedia.org/wikipedia/commons/thumb/7/75/Vlagretalhuleu.gif/40px-Vlagretalhuleu.gif 2x\" width=\"20\"/></a></span> </span><a class=\"mw-redirect\" href=\"/wiki/Departamento_de_Retalhuleu\" title=\"Departamento de Retalhuleu\">Retalhuleu</a></td>\n",
       "<td><a class=\"mw-redirect\" href=\"/wiki/Retalhuleu_(municipio)\" title=\"Retalhuleu (municipio)\">Retalhuleu</a></td>\n",
       "<td align=\"right\" style=\"\">1 856</td>\n",
       "<td align=\"right\" style=\"\">304 168\n",
       "</td></tr>\n",
       "<tr>\n",
       "<td><span class=\"flagicon\"><span class=\"mw-image-border\" typeof=\"mw:File\"><a class=\"mw-file-description\" href=\"/wiki/Archivo:Bandera_de_Sacatep%C3%A9quez.svg\"><img class=\"mw-file-element\" data-file-height=\"886\" data-file-width=\"1417\" decoding=\"async\" height=\"13\" src=\"//upload.wikimedia.org/wikipedia/commons/thumb/c/c4/Bandera_de_Sacatep%C3%A9quez.svg/20px-Bandera_de_Sacatep%C3%A9quez.svg.png\" srcset=\"//upload.wikimedia.org/wikipedia/commons/thumb/c/c4/Bandera_de_Sacatep%C3%A9quez.svg/30px-Bandera_de_Sacatep%C3%A9quez.svg.png 1.5x, //upload.wikimedia.org/wikipedia/commons/thumb/c/c4/Bandera_de_Sacatep%C3%A9quez.svg/40px-Bandera_de_Sacatep%C3%A9quez.svg.png 2x\" width=\"20\"/></a></span> </span><a href=\"/wiki/Departamento_de_Sacatep%C3%A9quez\" title=\"Departamento de Sacatepéquez\">Sacatepéquez</a></td>\n",
       "<td><a href=\"/wiki/Antigua_Guatemala\" title=\"Antigua Guatemala\">Antigua Guatemala</a></td>\n",
       "<td align=\"right\" style=\"\">465</td>\n",
       "<td align=\"right\" style=\"\">248 019\n",
       "</td></tr>\n",
       "<tr>\n",
       "<td><span class=\"flagicon\"><span class=\"mw-image-border\" typeof=\"mw:File\"><a class=\"mw-file-description\" href=\"/wiki/Archivo:Vlagsanmarcos.gif\"><img class=\"mw-file-element\" data-file-height=\"217\" data-file-width=\"326\" decoding=\"async\" height=\"13\" src=\"//upload.wikimedia.org/wikipedia/commons/thumb/6/62/Vlagsanmarcos.gif/20px-Vlagsanmarcos.gif\" srcset=\"//upload.wikimedia.org/wikipedia/commons/thumb/6/62/Vlagsanmarcos.gif/40px-Vlagsanmarcos.gif 1.5x\" width=\"20\"/></a></span> </span><a href=\"/wiki/Departamento_de_San_Marcos\" title=\"Departamento de San Marcos\">San Marcos</a></td>\n",
       "<td><a class=\"mw-redirect\" href=\"/wiki/San_Marcos_(Ciudad)\" title=\"San Marcos (Ciudad)\">San Marcos</a></td>\n",
       "<td align=\"right\" style=\"\">3 791</td>\n",
       "<td align=\"right\" style=\"\">1 019 719\n",
       "</td></tr>\n",
       "<tr>\n",
       "<td><span class=\"flagicon\"><span class=\"mw-image-border\" typeof=\"mw:File\"><a class=\"mw-file-description\" href=\"/wiki/Archivo:Flag_of_Santa_Rosa_Department.GIF\"><img class=\"mw-file-element\" data-file-height=\"217\" data-file-width=\"324\" decoding=\"async\" height=\"13\" src=\"//upload.wikimedia.org/wikipedia/commons/thumb/5/52/Flag_of_Santa_Rosa_Department.GIF/20px-Flag_of_Santa_Rosa_Department.GIF\" srcset=\"//upload.wikimedia.org/wikipedia/commons/thumb/5/52/Flag_of_Santa_Rosa_Department.GIF/40px-Flag_of_Santa_Rosa_Department.GIF 1.5x\" width=\"20\"/></a></span> </span><a href=\"/wiki/Departamento_de_Santa_Rosa_(Guatemala)\" title=\"Departamento de Santa Rosa (Guatemala)\">Santa Rosa</a></td>\n",
       "<td><a href=\"/wiki/Cuilapa\" title=\"Cuilapa\">Cuilapa</a></td>\n",
       "<td align=\"right\" style=\"\">2 955</td>\n",
       "<td align=\"right\" style=\"\">346 590\n",
       "</td></tr>\n",
       "<tr>\n",
       "<td><span class=\"flagicon\"><span class=\"mw-image-border\" typeof=\"mw:File\"><a class=\"mw-file-description\" href=\"/wiki/Archivo:Flag_of_Solol%C3%A1_Department.svg\"><img class=\"mw-file-element\" data-file-height=\"416\" data-file-width=\"625\" decoding=\"async\" height=\"13\" src=\"//upload.wikimedia.org/wikipedia/commons/thumb/f/f6/Flag_of_Solol%C3%A1_Department.svg/20px-Flag_of_Solol%C3%A1_Department.svg.png\" srcset=\"//upload.wikimedia.org/wikipedia/commons/thumb/f/f6/Flag_of_Solol%C3%A1_Department.svg/40px-Flag_of_Solol%C3%A1_Department.svg.png 1.5x\" width=\"20\"/></a></span> </span><a href=\"/wiki/Departamento_de_Solol%C3%A1\" title=\"Departamento de Sololá\">Sololá</a></td>\n",
       "<td><a class=\"mw-redirect\" href=\"/wiki/Solol%C3%A1_(Ciudad)\" title=\"Sololá (Ciudad)\">Sololá</a></td>\n",
       "<td align=\"right\" style=\"\">1 061</td>\n",
       "<td align=\"right\" style=\"\">437 145\n",
       "</td></tr>\n",
       "<tr>\n",
       "<td><span class=\"flagicon\"><span class=\"mw-image-border\" typeof=\"mw:File\"><a class=\"mw-file-description\" href=\"/wiki/Archivo:Suchitep%C3%A9quez_Flag_(GUATEMALA).png\"><img class=\"mw-file-element\" data-file-height=\"505\" data-file-width=\"799\" decoding=\"async\" height=\"13\" src=\"//upload.wikimedia.org/wikipedia/commons/thumb/e/e8/Suchitep%C3%A9quez_Flag_%28GUATEMALA%29.png/20px-Suchitep%C3%A9quez_Flag_%28GUATEMALA%29.png\" srcset=\"//upload.wikimedia.org/wikipedia/commons/thumb/e/e8/Suchitep%C3%A9quez_Flag_%28GUATEMALA%29.png/30px-Suchitep%C3%A9quez_Flag_%28GUATEMALA%29.png 1.5x, //upload.wikimedia.org/wikipedia/commons/thumb/e/e8/Suchitep%C3%A9quez_Flag_%28GUATEMALA%29.png/40px-Suchitep%C3%A9quez_Flag_%28GUATEMALA%29.png 2x\" width=\"20\"/></a></span> </span><a href=\"/wiki/Departamento_de_Suchitep%C3%A9quez\" title=\"Departamento de Suchitepéquez\">Suchitepéquez</a></td>\n",
       "<td><a href=\"/wiki/Mazatenango\" title=\"Mazatenango\">Mazatenango</a></td>\n",
       "<td align=\"right\" style=\"\">2 510</td>\n",
       "<td align=\"right\" style=\"\">516 467\n",
       "</td></tr>\n",
       "<tr>\n",
       "<td><span class=\"flagicon\"><span class=\"mw-image-border\" typeof=\"mw:File\"><a class=\"mw-file-description\" href=\"/wiki/Archivo:Bandera_Totonicap%C3%A1n.svg\"><img class=\"mw-file-element\" data-file-height=\"1642\" data-file-width=\"2719\" decoding=\"async\" height=\"12\" src=\"//upload.wikimedia.org/wikipedia/commons/thumb/8/80/Bandera_Totonicap%C3%A1n.svg/20px-Bandera_Totonicap%C3%A1n.svg.png\" srcset=\"//upload.wikimedia.org/wikipedia/commons/thumb/8/80/Bandera_Totonicap%C3%A1n.svg/30px-Bandera_Totonicap%C3%A1n.svg.png 1.5x, //upload.wikimedia.org/wikipedia/commons/thumb/8/80/Bandera_Totonicap%C3%A1n.svg/40px-Bandera_Totonicap%C3%A1n.svg.png 2x\" width=\"20\"/></a></span> </span><a href=\"/wiki/Departamento_de_Totonicap%C3%A1n\" title=\"Departamento de Totonicapán\">Totonicapán</a></td>\n",
       "<td><a href=\"/wiki/Totonicap%C3%A1n_(municipio)\" title=\"Totonicapán (municipio)\">Totonicapán</a></td>\n",
       "<td align=\"right\" style=\"\">1 061</td>\n",
       "<td align=\"right\" style=\"\">476 369\n",
       "</td></tr>\n",
       "<tr>\n",
       "<td><span class=\"flagicon\"><span class=\"mw-image-border\" typeof=\"mw:File\"><a class=\"mw-file-description\" href=\"/wiki/Archivo:..Zacapa_Flag(GUATEMALA).png\"><img class=\"mw-file-element\" data-file-height=\"400\" data-file-width=\"705\" decoding=\"async\" height=\"11\" src=\"//upload.wikimedia.org/wikipedia/commons/thumb/b/ba/..Zacapa_Flag%28GUATEMALA%29.png/20px-..Zacapa_Flag%28GUATEMALA%29.png\" srcset=\"//upload.wikimedia.org/wikipedia/commons/thumb/b/ba/..Zacapa_Flag%28GUATEMALA%29.png/40px-..Zacapa_Flag%28GUATEMALA%29.png 1.5x\" width=\"20\"/></a></span> </span><a href=\"/wiki/Departamento_de_Zacapa\" title=\"Departamento de Zacapa\">Zacapa</a></td>\n",
       "<td><a href=\"/wiki/Zacapa_(ciudad)\" title=\"Zacapa (ciudad)\">Zacapa</a></td>\n",
       "<td align=\"right\" style=\"\">2 690</td>\n",
       "<td align=\"right\" style=\"\">221 646\n",
       "</td></tr></tbody></table>\n",
       "</td></tr></tbody></table>"
      ]
     },
     "execution_count": 36,
     "metadata": {},
     "output_type": "execute_result"
    }
   ],
   "source": [
    "tabla"
   ]
  },
  {
   "cell_type": "code",
   "execution_count": 37,
   "id": "a64ae6a5-e693-4c7f-addb-023ce02d630b",
   "metadata": {},
   "outputs": [
    {
     "data": {
      "text/plain": [
       "[                                                    0  \\\n",
       " 0                          Departamentos de Guatemala   \n",
       " 1   Zacapa Chiquimula Sacatepéquez San Marcos Reta...   \n",
       " 2                                        Departamento   \n",
       " 3                                        Alta Verapaz   \n",
       " 4                                        Baja Verapaz   \n",
       " 5                                       Chimaltenango   \n",
       " 6                                          Chiquimula   \n",
       " 7                                         El Progreso   \n",
       " 8                                           Escuintla   \n",
       " 9                                           Guatemala   \n",
       " 10                                      Huehuetenango   \n",
       " 11                                             Izabal   \n",
       " 12                                             Jalapa   \n",
       " 13                                            Jutiapa   \n",
       " 14                                              Petén   \n",
       " 15                                     Quetzaltenango   \n",
       " 16                                             Quiché   \n",
       " 17                                         Retalhuleu   \n",
       " 18                                       Sacatepéquez   \n",
       " 19                                         San Marcos   \n",
       " 20                                         Santa Rosa   \n",
       " 21                                             Sololá   \n",
       " 22                                      Suchitepéquez   \n",
       " 23                                        Totonicapán   \n",
       " 24                                             Zacapa   \n",
       " \n",
       "                                                     1  \\\n",
       " 0                          Departamentos de Guatemala   \n",
       " 1   Zacapa Chiquimula Sacatepéquez San Marcos Reta...   \n",
       " 2                                            Cabecera   \n",
       " 3                                               Cobán   \n",
       " 4                                              Salamá   \n",
       " 5                                       Chimaltenango   \n",
       " 6                                          Chiquimula   \n",
       " 7                                          Guastatoya   \n",
       " 8                                           Escuintla   \n",
       " 9                                 Ciudad de Guatemala   \n",
       " 10                                      Huehuetenango   \n",
       " 11                                     Puerto Barrios   \n",
       " 12                                             Jalapa   \n",
       " 13                                            Jutiapa   \n",
       " 14                                             Flores   \n",
       " 15                                     Quetzaltenango   \n",
       " 16                              Santa Cruz del Quiché   \n",
       " 17                                         Retalhuleu   \n",
       " 18                                  Antigua Guatemala   \n",
       " 19                                         San Marcos   \n",
       " 20                                            Cuilapa   \n",
       " 21                                             Sololá   \n",
       " 22                                        Mazatenango   \n",
       " 23                                        Totonicapán   \n",
       " 24                                             Zacapa   \n",
       " \n",
       "                                                     2  \\\n",
       " 0                          Departamentos de Guatemala   \n",
       " 1   Zacapa Chiquimula Sacatepéquez San Marcos Reta...   \n",
       " 2                                    Superficie (km²)   \n",
       " 3                                               8 686   \n",
       " 4                                               3 124   \n",
       " 5                                               1 979   \n",
       " 6                                               2 376   \n",
       " 7                                               1 922   \n",
       " 8                                               4 384   \n",
       " 9                                               2 126   \n",
       " 10                                              7 400   \n",
       " 11                                              9 038   \n",
       " 12                                              2 063   \n",
       " 13                                              3 216   \n",
       " 14                                             35 854   \n",
       " 15                                              1 953   \n",
       " 16                                              8 378   \n",
       " 17                                              1 856   \n",
       " 18                                                465   \n",
       " 19                                              3 791   \n",
       " 20                                              2 955   \n",
       " 21                                              1 061   \n",
       " 22                                              2 510   \n",
       " 23                                              1 061   \n",
       " 24                                              2 690   \n",
       " \n",
       "                                                     3  \n",
       " 0                          Departamentos de Guatemala  \n",
       " 1   Zacapa Chiquimula Sacatepéquez San Marcos Reta...  \n",
       " 2                                Población (hab.)[1]​  \n",
       " 3                                           1 112 781  \n",
       " 4                                             270 521  \n",
       " 5                                             666 938  \n",
       " 6                                             370 891  \n",
       " 7                                             158 092  \n",
       " 8                                             701 016  \n",
       " 9                                           2 541 581  \n",
       " 10                                          1 143 887  \n",
       " 11                                            413 399  \n",
       " 12                                            318 420  \n",
       " 13                                            436 076  \n",
       " 14                                            638 296  \n",
       " 15                                            789 358  \n",
       " 16                                            953 027  \n",
       " 17                                            304 168  \n",
       " 18                                            248 019  \n",
       " 19                                          1 019 719  \n",
       " 20                                            346 590  \n",
       " 21                                            437 145  \n",
       " 22                                            516 467  \n",
       " 23                                            476 369  \n",
       " 24                                            221 646  ,\n",
       "       Departamento               Cabecera Superficie (km²)  \\\n",
       " 0     Alta Verapaz                  Cobán            8 686   \n",
       " 1     Baja Verapaz                 Salamá            3 124   \n",
       " 2    Chimaltenango          Chimaltenango            1 979   \n",
       " 3       Chiquimula             Chiquimula            2 376   \n",
       " 4      El Progreso             Guastatoya            1 922   \n",
       " 5        Escuintla              Escuintla            4 384   \n",
       " 6        Guatemala    Ciudad de Guatemala            2 126   \n",
       " 7    Huehuetenango          Huehuetenango            7 400   \n",
       " 8           Izabal         Puerto Barrios            9 038   \n",
       " 9           Jalapa                 Jalapa            2 063   \n",
       " 10         Jutiapa                Jutiapa            3 216   \n",
       " 11           Petén                 Flores           35 854   \n",
       " 12  Quetzaltenango         Quetzaltenango            1 953   \n",
       " 13          Quiché  Santa Cruz del Quiché            8 378   \n",
       " 14      Retalhuleu             Retalhuleu            1 856   \n",
       " 15    Sacatepéquez      Antigua Guatemala              465   \n",
       " 16      San Marcos             San Marcos            3 791   \n",
       " 17      Santa Rosa                Cuilapa            2 955   \n",
       " 18          Sololá                 Sololá            1 061   \n",
       " 19   Suchitepéquez            Mazatenango            2 510   \n",
       " 20     Totonicapán            Totonicapán            1 061   \n",
       " 21          Zacapa                 Zacapa            2 690   \n",
       " \n",
       "    Población (hab.)[1]​  \n",
       " 0             1 112 781  \n",
       " 1               270 521  \n",
       " 2               666 938  \n",
       " 3               370 891  \n",
       " 4               158 092  \n",
       " 5               701 016  \n",
       " 6             2 541 581  \n",
       " 7             1 143 887  \n",
       " 8               413 399  \n",
       " 9               318 420  \n",
       " 10              436 076  \n",
       " 11              638 296  \n",
       " 12              789 358  \n",
       " 13              953 027  \n",
       " 14              304 168  \n",
       " 15              248 019  \n",
       " 16            1 019 719  \n",
       " 17              346 590  \n",
       " 18              437 145  \n",
       " 19              516 467  \n",
       " 20              476 369  \n",
       " 21              221 646  ]"
      ]
     },
     "execution_count": 37,
     "metadata": {},
     "output_type": "execute_result"
    }
   ],
   "source": [
    "tabla = pd.read_html(StringIO(str(tabla)))\n",
    "tabla"
   ]
  },
  {
   "cell_type": "code",
   "execution_count": 38,
   "id": "2efcff88-27c1-4ef2-a1aa-ffa68ed3a3da",
   "metadata": {},
   "outputs": [
    {
     "data": {
      "text/html": [
       "<div>\n",
       "<style scoped>\n",
       "    .dataframe tbody tr th:only-of-type {\n",
       "        vertical-align: middle;\n",
       "    }\n",
       "\n",
       "    .dataframe tbody tr th {\n",
       "        vertical-align: top;\n",
       "    }\n",
       "\n",
       "    .dataframe thead th {\n",
       "        text-align: right;\n",
       "    }\n",
       "</style>\n",
       "<table border=\"1\" class=\"dataframe\">\n",
       "  <thead>\n",
       "    <tr style=\"text-align: right;\">\n",
       "      <th></th>\n",
       "      <th>0</th>\n",
       "      <th>1</th>\n",
       "      <th>2</th>\n",
       "      <th>3</th>\n",
       "    </tr>\n",
       "  </thead>\n",
       "  <tbody>\n",
       "    <tr>\n",
       "      <th>0</th>\n",
       "      <td>Departamentos de Guatemala</td>\n",
       "      <td>Departamentos de Guatemala</td>\n",
       "      <td>Departamentos de Guatemala</td>\n",
       "      <td>Departamentos de Guatemala</td>\n",
       "    </tr>\n",
       "    <tr>\n",
       "      <th>1</th>\n",
       "      <td>Zacapa Chiquimula Sacatepéquez San Marcos Reta...</td>\n",
       "      <td>Zacapa Chiquimula Sacatepéquez San Marcos Reta...</td>\n",
       "      <td>Zacapa Chiquimula Sacatepéquez San Marcos Reta...</td>\n",
       "      <td>Zacapa Chiquimula Sacatepéquez San Marcos Reta...</td>\n",
       "    </tr>\n",
       "    <tr>\n",
       "      <th>2</th>\n",
       "      <td>Departamento</td>\n",
       "      <td>Cabecera</td>\n",
       "      <td>Superficie (km²)</td>\n",
       "      <td>Población (hab.)[1]​</td>\n",
       "    </tr>\n",
       "    <tr>\n",
       "      <th>3</th>\n",
       "      <td>Alta Verapaz</td>\n",
       "      <td>Cobán</td>\n",
       "      <td>8 686</td>\n",
       "      <td>1 112 781</td>\n",
       "    </tr>\n",
       "    <tr>\n",
       "      <th>4</th>\n",
       "      <td>Baja Verapaz</td>\n",
       "      <td>Salamá</td>\n",
       "      <td>3 124</td>\n",
       "      <td>270 521</td>\n",
       "    </tr>\n",
       "    <tr>\n",
       "      <th>5</th>\n",
       "      <td>Chimaltenango</td>\n",
       "      <td>Chimaltenango</td>\n",
       "      <td>1 979</td>\n",
       "      <td>666 938</td>\n",
       "    </tr>\n",
       "    <tr>\n",
       "      <th>6</th>\n",
       "      <td>Chiquimula</td>\n",
       "      <td>Chiquimula</td>\n",
       "      <td>2 376</td>\n",
       "      <td>370 891</td>\n",
       "    </tr>\n",
       "    <tr>\n",
       "      <th>7</th>\n",
       "      <td>El Progreso</td>\n",
       "      <td>Guastatoya</td>\n",
       "      <td>1 922</td>\n",
       "      <td>158 092</td>\n",
       "    </tr>\n",
       "    <tr>\n",
       "      <th>8</th>\n",
       "      <td>Escuintla</td>\n",
       "      <td>Escuintla</td>\n",
       "      <td>4 384</td>\n",
       "      <td>701 016</td>\n",
       "    </tr>\n",
       "    <tr>\n",
       "      <th>9</th>\n",
       "      <td>Guatemala</td>\n",
       "      <td>Ciudad de Guatemala</td>\n",
       "      <td>2 126</td>\n",
       "      <td>2 541 581</td>\n",
       "    </tr>\n",
       "    <tr>\n",
       "      <th>10</th>\n",
       "      <td>Huehuetenango</td>\n",
       "      <td>Huehuetenango</td>\n",
       "      <td>7 400</td>\n",
       "      <td>1 143 887</td>\n",
       "    </tr>\n",
       "    <tr>\n",
       "      <th>11</th>\n",
       "      <td>Izabal</td>\n",
       "      <td>Puerto Barrios</td>\n",
       "      <td>9 038</td>\n",
       "      <td>413 399</td>\n",
       "    </tr>\n",
       "    <tr>\n",
       "      <th>12</th>\n",
       "      <td>Jalapa</td>\n",
       "      <td>Jalapa</td>\n",
       "      <td>2 063</td>\n",
       "      <td>318 420</td>\n",
       "    </tr>\n",
       "    <tr>\n",
       "      <th>13</th>\n",
       "      <td>Jutiapa</td>\n",
       "      <td>Jutiapa</td>\n",
       "      <td>3 216</td>\n",
       "      <td>436 076</td>\n",
       "    </tr>\n",
       "    <tr>\n",
       "      <th>14</th>\n",
       "      <td>Petén</td>\n",
       "      <td>Flores</td>\n",
       "      <td>35 854</td>\n",
       "      <td>638 296</td>\n",
       "    </tr>\n",
       "    <tr>\n",
       "      <th>15</th>\n",
       "      <td>Quetzaltenango</td>\n",
       "      <td>Quetzaltenango</td>\n",
       "      <td>1 953</td>\n",
       "      <td>789 358</td>\n",
       "    </tr>\n",
       "    <tr>\n",
       "      <th>16</th>\n",
       "      <td>Quiché</td>\n",
       "      <td>Santa Cruz del Quiché</td>\n",
       "      <td>8 378</td>\n",
       "      <td>953 027</td>\n",
       "    </tr>\n",
       "    <tr>\n",
       "      <th>17</th>\n",
       "      <td>Retalhuleu</td>\n",
       "      <td>Retalhuleu</td>\n",
       "      <td>1 856</td>\n",
       "      <td>304 168</td>\n",
       "    </tr>\n",
       "    <tr>\n",
       "      <th>18</th>\n",
       "      <td>Sacatepéquez</td>\n",
       "      <td>Antigua Guatemala</td>\n",
       "      <td>465</td>\n",
       "      <td>248 019</td>\n",
       "    </tr>\n",
       "    <tr>\n",
       "      <th>19</th>\n",
       "      <td>San Marcos</td>\n",
       "      <td>San Marcos</td>\n",
       "      <td>3 791</td>\n",
       "      <td>1 019 719</td>\n",
       "    </tr>\n",
       "    <tr>\n",
       "      <th>20</th>\n",
       "      <td>Santa Rosa</td>\n",
       "      <td>Cuilapa</td>\n",
       "      <td>2 955</td>\n",
       "      <td>346 590</td>\n",
       "    </tr>\n",
       "    <tr>\n",
       "      <th>21</th>\n",
       "      <td>Sololá</td>\n",
       "      <td>Sololá</td>\n",
       "      <td>1 061</td>\n",
       "      <td>437 145</td>\n",
       "    </tr>\n",
       "    <tr>\n",
       "      <th>22</th>\n",
       "      <td>Suchitepéquez</td>\n",
       "      <td>Mazatenango</td>\n",
       "      <td>2 510</td>\n",
       "      <td>516 467</td>\n",
       "    </tr>\n",
       "    <tr>\n",
       "      <th>23</th>\n",
       "      <td>Totonicapán</td>\n",
       "      <td>Totonicapán</td>\n",
       "      <td>1 061</td>\n",
       "      <td>476 369</td>\n",
       "    </tr>\n",
       "    <tr>\n",
       "      <th>24</th>\n",
       "      <td>Zacapa</td>\n",
       "      <td>Zacapa</td>\n",
       "      <td>2 690</td>\n",
       "      <td>221 646</td>\n",
       "    </tr>\n",
       "  </tbody>\n",
       "</table>\n",
       "</div>"
      ],
      "text/plain": [
       "                                                    0  \\\n",
       "0                          Departamentos de Guatemala   \n",
       "1   Zacapa Chiquimula Sacatepéquez San Marcos Reta...   \n",
       "2                                        Departamento   \n",
       "3                                        Alta Verapaz   \n",
       "4                                        Baja Verapaz   \n",
       "5                                       Chimaltenango   \n",
       "6                                          Chiquimula   \n",
       "7                                         El Progreso   \n",
       "8                                           Escuintla   \n",
       "9                                           Guatemala   \n",
       "10                                      Huehuetenango   \n",
       "11                                             Izabal   \n",
       "12                                             Jalapa   \n",
       "13                                            Jutiapa   \n",
       "14                                              Petén   \n",
       "15                                     Quetzaltenango   \n",
       "16                                             Quiché   \n",
       "17                                         Retalhuleu   \n",
       "18                                       Sacatepéquez   \n",
       "19                                         San Marcos   \n",
       "20                                         Santa Rosa   \n",
       "21                                             Sololá   \n",
       "22                                      Suchitepéquez   \n",
       "23                                        Totonicapán   \n",
       "24                                             Zacapa   \n",
       "\n",
       "                                                    1  \\\n",
       "0                          Departamentos de Guatemala   \n",
       "1   Zacapa Chiquimula Sacatepéquez San Marcos Reta...   \n",
       "2                                            Cabecera   \n",
       "3                                               Cobán   \n",
       "4                                              Salamá   \n",
       "5                                       Chimaltenango   \n",
       "6                                          Chiquimula   \n",
       "7                                          Guastatoya   \n",
       "8                                           Escuintla   \n",
       "9                                 Ciudad de Guatemala   \n",
       "10                                      Huehuetenango   \n",
       "11                                     Puerto Barrios   \n",
       "12                                             Jalapa   \n",
       "13                                            Jutiapa   \n",
       "14                                             Flores   \n",
       "15                                     Quetzaltenango   \n",
       "16                              Santa Cruz del Quiché   \n",
       "17                                         Retalhuleu   \n",
       "18                                  Antigua Guatemala   \n",
       "19                                         San Marcos   \n",
       "20                                            Cuilapa   \n",
       "21                                             Sololá   \n",
       "22                                        Mazatenango   \n",
       "23                                        Totonicapán   \n",
       "24                                             Zacapa   \n",
       "\n",
       "                                                    2  \\\n",
       "0                          Departamentos de Guatemala   \n",
       "1   Zacapa Chiquimula Sacatepéquez San Marcos Reta...   \n",
       "2                                    Superficie (km²)   \n",
       "3                                               8 686   \n",
       "4                                               3 124   \n",
       "5                                               1 979   \n",
       "6                                               2 376   \n",
       "7                                               1 922   \n",
       "8                                               4 384   \n",
       "9                                               2 126   \n",
       "10                                              7 400   \n",
       "11                                              9 038   \n",
       "12                                              2 063   \n",
       "13                                              3 216   \n",
       "14                                             35 854   \n",
       "15                                              1 953   \n",
       "16                                              8 378   \n",
       "17                                              1 856   \n",
       "18                                                465   \n",
       "19                                              3 791   \n",
       "20                                              2 955   \n",
       "21                                              1 061   \n",
       "22                                              2 510   \n",
       "23                                              1 061   \n",
       "24                                              2 690   \n",
       "\n",
       "                                                    3  \n",
       "0                          Departamentos de Guatemala  \n",
       "1   Zacapa Chiquimula Sacatepéquez San Marcos Reta...  \n",
       "2                                Población (hab.)[1]​  \n",
       "3                                           1 112 781  \n",
       "4                                             270 521  \n",
       "5                                             666 938  \n",
       "6                                             370 891  \n",
       "7                                             158 092  \n",
       "8                                             701 016  \n",
       "9                                           2 541 581  \n",
       "10                                          1 143 887  \n",
       "11                                            413 399  \n",
       "12                                            318 420  \n",
       "13                                            436 076  \n",
       "14                                            638 296  \n",
       "15                                            789 358  \n",
       "16                                            953 027  \n",
       "17                                            304 168  \n",
       "18                                            248 019  \n",
       "19                                          1 019 719  \n",
       "20                                            346 590  \n",
       "21                                            437 145  \n",
       "22                                            516 467  \n",
       "23                                            476 369  \n",
       "24                                            221 646  "
      ]
     },
     "execution_count": 38,
     "metadata": {},
     "output_type": "execute_result"
    }
   ],
   "source": [
    "tabla[0]"
   ]
  },
  {
   "cell_type": "code",
   "execution_count": null,
   "id": "0486cf93-ff62-4b12-965a-5b14aa039886",
   "metadata": {},
   "outputs": [],
   "source": []
  }
 ],
 "metadata": {
  "kernelspec": {
   "display_name": "Python 3 (ipykernel)",
   "language": "python",
   "name": "python3"
  },
  "language_info": {
   "codemirror_mode": {
    "name": "ipython",
    "version": 3
   },
   "file_extension": ".py",
   "mimetype": "text/x-python",
   "name": "python",
   "nbconvert_exporter": "python",
   "pygments_lexer": "ipython3",
   "version": "3.13.2"
  }
 },
 "nbformat": 4,
 "nbformat_minor": 5
}
