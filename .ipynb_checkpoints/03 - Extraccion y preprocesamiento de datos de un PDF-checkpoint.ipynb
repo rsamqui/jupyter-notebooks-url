{
 "cells": [
  {
   "cell_type": "markdown",
   "id": "2c45224d-0445-4712-b02f-73203a062631",
   "metadata": {},
   "source": [
    "# Paquetes requeridos\n",
    "!pip install 'camelot-py[base]'\n",
    "\n",
    "!pip install 'camelot-py[cv]' -q\n",
    "\n",
    "!pip install 'PyPDF2<3.0'"
   ]
  },
  {
   "cell_type": "code",
   "execution_count": 1,
   "id": "2b433295-b694-486b-b28c-28baa9195dbb",
   "metadata": {},
   "outputs": [],
   "source": [
    "import matplotlib.pyplot as plt\n",
    "import pandas as pd\n",
    "import camelot"
   ]
  },
  {
   "cell_type": "code",
   "execution_count": 2,
   "id": "ffaa8fee-2712-4e0f-af25-00bdd5a392dc",
   "metadata": {},
   "outputs": [],
   "source": [
    "archivo = '../../DataSet/pdf/Analisis Anual 2018 ETAS.pdf'"
   ]
  },
  {
   "cell_type": "code",
   "execution_count": null,
   "id": "a6ea3bef-5da1-4234-ba3e-06d551c5bc6e",
   "metadata": {},
   "outputs": [],
   "source": [
    "tabla = camelot.read_pdf(archivo, pages='3')"
   ]
  },
  {
   "cell_type": "code",
   "execution_count": null,
   "id": "ceb9ec59-1383-40f9-95a0-665de9d7cecf",
   "metadata": {},
   "outputs": [],
   "source": [
    "tabla[0].df"
   ]
  },
  {
   "cell_type": "code",
   "execution_count": null,
   "id": "cb19d1cb-022d-443d-8ed9-0011d969e944",
   "metadata": {},
   "outputs": [],
   "source": [
    "area = list(map(lambda area: area.strip(), tabla[0].df[0][2].split('\\n')))"
   ]
  },
  {
   "cell_type": "code",
   "execution_count": null,
   "id": "47b47d4b-b6a0-48d2-b0fa-46ba6edca140",
   "metadata": {},
   "outputs": [],
   "source": [
    "area.extend(list(map(lambda area: area.strip(), tabla[0].df[0][3].split('\\n'))))"
   ]
  },
  {
   "cell_type": "code",
   "execution_count": null,
   "id": "788aaf65-965e-4f69-8e08-4281057280b9",
   "metadata": {},
   "outputs": [],
   "source": [
    "area"
   ]
  },
  {
   "cell_type": "code",
   "execution_count": null,
   "id": "dc1c9303-346b-4738-b97a-c63b675976a6",
   "metadata": {},
   "outputs": [],
   "source": [
    "casos2017 = [int(casos.strip()) for casos in tabla[0].df[1][2].split('\\n')]\n",
    "casos2017.extend([int(casos.strip()) for casos in tabla[0].df[1][3].split('\\n')])\n",
    "casos2017"
   ]
  },
  {
   "cell_type": "code",
   "execution_count": null,
   "id": "a169033e-bd55-472f-86da-ca973d3effb9",
   "metadata": {},
   "outputs": [],
   "source": [
    "casos2018 = [int(casos.strip()) for casos in tabla[0].df[3][2].split('\\n')]\n",
    "casos2018.extend([int(casos.strip()) for casos in tabla[0].df[3][3].split('\\n')])\n",
    "tasas2017 = [float(casos.strip()) for casos in tabla[0].df[2][2].split('\\n')]\n",
    "tasas2017.extend([float(casos.strip()) for casos in tabla[0].df[2][3].split('\\n')])\n",
    "tasas2018 = [float(casos.strip()) for casos in tabla[0].df[4][2].split('\\n')]\n",
    "tasas2018.extend([float(casos.strip()) for casos in tabla[0].df[4][3].split('\\n')])"
   ]
  },
  {
   "cell_type": "code",
   "execution_count": null,
   "id": "d9cd6318-17d3-4945-8623-57979d854217",
   "metadata": {},
   "outputs": [],
   "source": [
    "etas = pd.DataFrame(area, columns=['Area de Salud']\n",
    "etas['Casos 2017'] = casos2017\n",
    "etas['Tasas 2017'] = casos2017\n",
    "etas['Casos 2018'] = casos2018\n",
    "etas['Tasas 2018'] = casos2018\n",
    "etas"
   ]
  },
  {
   "cell_type": "code",
   "execution_count": null,
   "id": "3f9c9767-a617-406b-bc1c-eb5ddeaee9d6",
   "metadata": {},
   "outputs": [],
   "source": [
    "etas.boxplot()"
   ]
  }
 ],
 "metadata": {
  "kernelspec": {
   "display_name": "Python 3 (ipykernel)",
   "language": "python",
   "name": "python3"
  },
  "language_info": {
   "codemirror_mode": {
    "name": "ipython",
    "version": 3
   },
   "file_extension": ".py",
   "mimetype": "text/x-python",
   "name": "python",
   "nbconvert_exporter": "python",
   "pygments_lexer": "ipython3",
   "version": "3.13.2"
  }
 },
 "nbformat": 4,
 "nbformat_minor": 5
}
